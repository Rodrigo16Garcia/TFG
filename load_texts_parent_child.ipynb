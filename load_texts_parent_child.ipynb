{
 "cells": [
  {
   "cell_type": "code",
   "execution_count": 1,
   "metadata": {},
   "outputs": [],
   "source": [
    "import chromadb\n",
    "import uuid\n",
    "from langchain_community.vectorstores import Chroma\n",
    "from langchain_ollama import ChatOllama \n",
    "from langchain_huggingface import HuggingFaceEmbeddings\n",
    "from langchain_text_splitters import RecursiveCharacterTextSplitter\n",
    "from langchain_community.document_loaders import PyPDFLoader\n",
    "import numpy as np\n",
    "from langchain_core.prompts import ChatPromptTemplate\n",
    "from langchain.retrievers import ParentDocumentRetriever\n",
    "from langchain.storage import InMemoryStore\n",
    "import pickle\n",
    "import pypdf"
   ]
  },
  {
   "cell_type": "code",
   "execution_count": 7,
   "metadata": {},
   "outputs": [],
   "source": [
    "embedding_model = HuggingFaceEmbeddings(model_name=\"sentence-transformers/all-MiniLM-L6-v2\")"
   ]
  },
  {
   "cell_type": "code",
   "execution_count": 4,
   "metadata": {},
   "outputs": [
    {
     "data": {
      "text/plain": [
       "5"
      ]
     },
     "execution_count": 4,
     "metadata": {},
     "output_type": "execute_result"
    }
   ],
   "source": [
    "loaders = [\n",
    "    PyPDFLoader(file_path=r\"C:\\Users\\Usuario\\Desktop\\Universidad_23_24\\TFG\\EL_NUEVO\\docs\\BOCYL-D-17052024-2 2024.pdf\", mode=\"single\",),\n",
    "    PyPDFLoader(r\"C:\\Users\\Usuario\\Desktop\\Universidad_23_24\\TFG\\EL_NUEVO\\docs\\decreto de infantil 30 de octubre 29 DE SEPTIEMBRE.pdf\", mode=\"single\"),\n",
    "    PyPDFLoader(r\"C:\\Users\\Usuario\\Desktop\\Universidad_23_24\\TFG\\EL_NUEVO\\docs\\Decreto primaria octubre 29 SEP 2022.pdf\", mode=\"single\"),\n",
    "    PyPDFLoader(r\"C:\\Users\\Usuario\\Desktop\\Universidad_23_24\\TFG\\EL_NUEVO\\docs\\Decreto secundaria octubre.pdf\", mode=\"single\"),\n",
    "    PyPDFLoader(r\"C:\\Users\\Usuario\\Desktop\\Universidad_23_24\\TFG\\EL_NUEVO\\docs\\Franz_Kafka_The_Metamorphosis.pdf\", mode=\"single\")\n",
    "]\n",
    "\n",
    "docs = []\n",
    "for loader in loaders:\n",
    "    docs.extend(loader.load())\n",
    "\n",
    "len(docs)"
   ]
  },
  {
   "cell_type": "code",
   "execution_count": 5,
   "metadata": {},
   "outputs": [],
   "source": [
    "parent_splitter = RecursiveCharacterTextSplitter(chunk_size= 10000)\n",
    "child_splitter = RecursiveCharacterTextSplitter(chunk_size= 1000)\n"
   ]
  },
  {
   "cell_type": "code",
   "execution_count": null,
   "metadata": {},
   "outputs": [
    {
     "data": {
      "text/plain": [
       "[Collection(name=ip-coll),\n",
       " Collection(name=Spacy),\n",
       " Collection(name=prueba_kafka),\n",
       " Collection(name=prueba_kafka_large),\n",
       " Collection(name=STtoken),\n",
       " Collection(name=prueba_kafka_child),\n",
       " Collection(name=cosine),\n",
       " Collection(name=Recursive),\n",
       " Collection(name=multi-qa-mpnet-base-dot-v1),\n",
       " Collection(name=prueba_kafka_child_augmented),\n",
       " Collection(name=NLTK),\n",
       " Collection(name=all-mpnet-base-v2),\n",
       " Collection(name=all-MiniLM-L6-v2)]"
      ]
     },
     "metadata": {},
     "output_type": "display_data"
    }
   ],
   "source": [
    "client = chromadb.HttpClient(\"localhost\", 7888)\n",
    "\n",
    "ampliar_db = True\n",
    "# coleccion = \"prueba_kafka_child\"\n",
    "coleccion = \"prueba_kafka_child_augmented\"\n",
    "\n",
    "collection = client.get_or_create_collection(coleccion)\n",
    "\n",
    "display(client.list_collections())\n",
    "collection = Chroma(collection_name=coleccion, client=client,  embedding_function=embedding_model, collection_metadata={\"hnsw:search_ef\": 20})\n",
    "\n",
    "store = InMemoryStore() "
   ]
  },
  {
   "cell_type": "code",
   "execution_count": 66,
   "metadata": {},
   "outputs": [],
   "source": [
    "retriever = ParentDocumentRetriever(\n",
    "    vectorstore=collection,\n",
    "    docstore=store,\n",
    "    child_splitter=child_splitter,\n",
    "    parent_splitter=parent_splitter,\n",
    ")"
   ]
  },
  {
   "cell_type": "code",
   "execution_count": 36,
   "metadata": {},
   "outputs": [],
   "source": [
    "retriever.add_documents(docs)"
   ]
  },
  {
   "cell_type": "code",
   "execution_count": 37,
   "metadata": {},
   "outputs": [],
   "source": [
    "llm = ChatOllama(base_url=\"http://localhost:11434\", model=\"llama3.2:1b\")    \n",
    "prompt = ChatPromptTemplate.from_template(\"Resume el siguiente texto:\\n\\n{doc}\")"
   ]
  },
  {
   "cell_type": "code",
   "execution_count": null,
   "metadata": {},
   "outputs": [
    {
     "data": {
      "text/plain": [
       "AIMessage(content='The text appears to be a collection of summaries and excerpts from classic works of literature, including novels, short stories, and poetry. Here are some observations about the text:\\n\\n1. **Chronology**: The list is organized by decade, with each entry spanning around 11-12 years (1918-1922). This suggests that the author has read a significant number of books from different periods in literature.\\n2. **Author selection**: The text highlights several influential authors, including Edgar Allan Poe, Franz Kafka, Gustave Flaubert, and H.P. Lovecraft. These selections suggest an interest in exploring the diversity of literary styles and themes across various centuries.\\n3. **Genre representation**: The list covers a range of genres, from Gothic fiction to Modernist literature. This variety highlights the author\\'s appreciation for different literary movements and their contributions to the literary canon.\\n4. **Publication history**: Some entries mention specific publication dates or editions, such as \"1920\" in Sylvia Beach\\'s publication of Ulysses\". This indicates that the author has a good understanding of literary publishing histories and is aware of how works have been reprinted and adapted over time.\\n5. **Critical evaluation**: The text seems to be written with a critical eye, evaluating the significance and impact of each work. For example, it notes that Edgar Allan Poe\\'s \"The Tell-Tale Heart\" is a classic of Gothic fiction, while H.P. Lovecraft\\'s \"The Call of Cthulhu\" is notable for its influence on horror and fantasy genres.\\n6. **Cultural context**: The text assumes a certain cultural context, referencing popular culture figures like James Russell Lowell and Max Brod (Franz Kafka\\'s friend and editor). This suggests that the author has an understanding of literary history and is aware of how authors have been interpreted or reinterpreted over time.\\n\\nOverall, this list appears to be a comprehensive survey of classic literature from various periods and genres, demonstrating an author\\'s appreciation for literary diversity and their engagement with different styles and themes across time.', additional_kwargs={}, response_metadata={'model': 'llama3.2:1b', 'created_at': '2025-02-16T17:12:19.6834029Z', 'done': True, 'done_reason': 'stop', 'total_duration': 353297329900, 'load_duration': 5065146500, 'prompt_eval_count': 1026, 'prompt_eval_duration': 3150652000, 'eval_count': 413, 'eval_duration': 345077455000, 'message': Message(role='assistant', content='', images=None, tool_calls=None)}, id='run-9a5a83a4-f2bb-4027-a3bc-b014f7aff5cb-0', usage_metadata={'input_tokens': 1026, 'output_tokens': 413, 'total_tokens': 1439})"
      ]
     },
     "execution_count": 38,
     "metadata": {},
     "output_type": "execute_result"
    }
   ],
   "source": [
    "doc = docs[4]\n",
    "doc = doc.page_content\n",
    "query = prompt.invoke(doc)\n",
    "result = llm.invoke(query)\n",
    "result\n",
    "# retriever.vectorstore.add_texts([result.content], [docs[4].metadata])"
   ]
  },
  {
   "cell_type": "code",
   "execution_count": 69,
   "metadata": {},
   "outputs": [
    {
     "data": {
      "text/plain": [
       "5"
      ]
     },
     "execution_count": 69,
     "metadata": {},
     "output_type": "execute_result"
    }
   ],
   "source": [
    "len(docs)\n"
   ]
  },
  {
   "cell_type": "code",
   "execution_count": 76,
   "metadata": {},
   "outputs": [],
   "source": [
    "if ampliar_db:\n",
    "    keys = list(store.yield_keys())\n",
    "    parent_docs = store.mget(keys)\n",
    "    for doc in parent_docs:\n",
    "        metadata = doc.metadata\n",
    "        doc = doc.page_content\n",
    "        query = prompt.invoke(doc)\n",
    "        resumen = llm.invoke(query)\n",
    "        retriever.vectorstore.add_texts([resumen.content], [metadata])"
   ]
  },
  {
   "cell_type": "code",
   "execution_count": null,
   "metadata": {},
   "outputs": [],
   "source": [
    "with open(\"parent_store.pkl\", 'wb') as outp:\n",
    "    pickle.dump(store, outp, pickle.HIGHEST_PROTOCOL)"
   ]
  },
  {
   "cell_type": "code",
   "execution_count": null,
   "metadata": {},
   "outputs": [],
   "source": [
    "with open(\"parent_store.pkl\", 'rb') as inp:\n",
    "    store = pickle.load(inp)\n"
   ]
  },
  {
   "cell_type": "code",
   "execution_count": 64,
   "metadata": {},
   "outputs": [
    {
     "data": {
      "text/plain": [
       "400"
      ]
     },
     "execution_count": 64,
     "metadata": {},
     "output_type": "execute_result"
    }
   ],
   "source": [
    "len(list(store.yield_keys()))"
   ]
  },
  {
   "cell_type": "code",
   "execution_count": 77,
   "metadata": {
    "scrolled": true
   },
   "outputs": [
    {
     "data": {
      "text/plain": [
       "(array(['C:\\\\Users\\\\Usuario\\\\Desktop\\\\Universidad_23_24\\\\TFG\\\\EL_NUEVO\\\\docs\\\\BOCYL-D-17052024-2 2024.pdf',\n",
       "        'C:\\\\Users\\\\Usuario\\\\Desktop\\\\Universidad_23_24\\\\TFG\\\\EL_NUEVO\\\\docs\\\\Decreto primaria octubre 29 SEP 2022.pdf',\n",
       "        'C:\\\\Users\\\\Usuario\\\\Desktop\\\\Universidad_23_24\\\\TFG\\\\EL_NUEVO\\\\docs\\\\Decreto secundaria octubre.pdf',\n",
       "        'C:\\\\Users\\\\Usuario\\\\Desktop\\\\Universidad_23_24\\\\TFG\\\\EL_NUEVO\\\\docs\\\\Franz_Kafka_The_Metamorphosis.pdf',\n",
       "        'C:\\\\Users\\\\Usuario\\\\Desktop\\\\Universidad_23_24\\\\TFG\\\\EL_NUEVO\\\\docs\\\\decreto de infantil 30 de octubre 29 DE SEPTIEMBRE.pdf'],\n",
       "       dtype='<U115'),\n",
       " 5554,\n",
       " None)"
      ]
     },
     "execution_count": 77,
     "metadata": {},
     "output_type": "execute_result"
    }
   ],
   "source": [
    "np.unique(np.array([ x[\"source\"] for x in collection.get()[\"metadatas\"]])), len(collection.get()[\"ids\"]), collection.get()[\"data\"]"
   ]
  },
  {
   "cell_type": "code",
   "execution_count": 13,
   "metadata": {},
   "outputs": [],
   "source": [
    "#client.delete_collection(\"prueba_kafka\")\n",
    "# client.create_collection(\"new_coll\", embedding_function=SentenceTransformerEmbeddings(\"multi-qa-mpnet-base-dot-v1\"))\n"
   ]
  },
  {
   "cell_type": "code",
   "execution_count": 14,
   "metadata": {},
   "outputs": [
    {
     "data": {
      "text/plain": [
       "[Document(metadata={'doc_id': 'b72dc07a-32b4-4dc1-9e25-4f9f631a3b4e', 'page': 5, 'source': 'C:\\\\Users\\\\Usuario\\\\Desktop\\\\Universidad_23_24\\\\TFG\\\\EL_NUEVO\\\\docs\\\\BOCYL-D-17052024-2 2024.pdf'}, page_content='1. En virtud de lo dispuesto en el artículo 19.9 del Decreto 38/2022, de 29 de \\nseptiembre, cuando el progreso del alumnado no sea el adecuado se establecerán \\nmedidas de refuerzo educativo.\\nEstas medidas deberán adoptarse en cualquier momento del curso, tan pronto \\ncomo se detecten las dificultades y estarán dirigidas a garantizar la adquisición de los'),\n",
       " Document(metadata={'doc_id': 'b7cca998-902a-4828-8248-961f52bc7fd8', 'page': 35, 'source': 'C:\\\\Users\\\\Usuario\\\\Desktop\\\\Universidad_23_24\\\\TFG\\\\EL_NUEVO\\\\docs\\\\Decreto primaria octubre 29 SEP 2022.pdf'}, page_content='Boletín Oficial de Castilla y León\\nNúm. 190 Pág. 48351Viernes, 30 de septiembre de 2022\\nCompetencia personal, social y de aprender a aprender (CPSAA) \\nDescriptores operativos: \\n \\n  \\nAl completar la educación primaria, el alumno o la alumna…  Al completar la enseñanza básica, el alumno o la alumna…  \\nCPSAA1. Es consciente de las propias emociones, ideas y'),\n",
       " Document(metadata={'doc_id': '1700016b-57a3-4fee-ac99-50f0f5fcbe85', 'page': 43, 'source': 'C:\\\\Users\\\\Usuario\\\\Desktop\\\\Universidad_23_24\\\\TFG\\\\EL_NUEVO\\\\docs\\\\Decreto secundaria octubre.pdf'}, page_content='Boletín Oficial de Castilla y León\\nNúm. 190 Pág. 48893Viernes, 30 de septiembre de 2022\\nCompetencia personal, social y de aprender a aprender (CPSAA) \\nDescriptores operativos: \\n \\n  \\nAl completar la educación primaria, el alumno o la alumna…  Al completar la enseñanza básica, el alumno o la alumna…  \\nCPSAA1. Es consciente de las propias emociones, ideas y'),\n",
       " Document(metadata={'doc_id': 'bff9d7bf-2edc-4a13-aa84-0a7a7d68fe4d', 'page': 11, 'source': 'C:\\\\Users\\\\Usuario\\\\Desktop\\\\Universidad_23_24\\\\TFG\\\\EL_NUEVO\\\\docs\\\\decreto de infantil 30 de octubre 29 DE SEPTIEMBRE.pdf'}, page_content='d) Ser inclusivas; es decir, deberán garantizar el acceso a las mismas de todo \\nel alumnado, adecuándolas a sus características evolutivas y a sus ritmos \\ny estilos de aprendizaje. \\nArtículo 13. Elementos transversales del currículo. \\n1. Además de los establecidos en el artículo 6 del Real Decreto 95/2022, de 1 de \\nfebrero, durante esta etapa se trabajarán la cooperación  y colaboración, la')]"
      ]
     },
     "execution_count": 14,
     "metadata": {},
     "output_type": "execute_result"
    }
   ],
   "source": [
    "collection.similarity_search(\"Es aceptable tener una única clase con 35 alumnos de primaria?\")"
   ]
  },
  {
   "cell_type": "code",
   "execution_count": 15,
   "metadata": {},
   "outputs": [
    {
     "data": {
      "text/plain": [
       "[Document(metadata={'source': 'C:\\\\Users\\\\Usuario\\\\Desktop\\\\Universidad_23_24\\\\TFG\\\\EL_NUEVO\\\\docs\\\\BOCYL-D-17052024-2 2024.pdf', 'page': 5}, page_content='Boletín Oficial de Castilla y León\\nNúm. 95 Pág. 22Viernes, 17 de mayo de 2024\\nArtículo 9. Medidas de refuerzo educativo, plan específico de refuerzo, plan de \\nrecuperación y plan de enriquecimiento curricular.\\n1. En virtud de lo dispuesto en el artículo 19.9 del Decreto 38/2022, de 29 de \\nseptiembre, cuando el progreso del alumnado no sea el adecuado se establecerán \\nmedidas de refuerzo educativo.\\nEstas medidas deberán adoptarse en cualquier momento del curso, tan pronto \\ncomo se detecten las dificultades y estarán dirigidas a garantizar la adquisición de los \\naprendizajes imprescindibles para continuar el proceso educativo.\\nSe planificarán por cualquiera de los docentes que atienden al alumno teniendo \\nen cuenta las necesidades que se detecten a partir de la información recogida en todo \\nmomento acerca del proceso de enseñanza y aprendizaje y evolución del alumnado.\\nEn su caso, las medidas de refuerzo educativo deberán adaptar la metodología, de \\nmanera que atiendan a la diversidad de capacidades, actitudes y ritmos de aprendizaje \\ne incorporarán, cuando así se requiera, aspectos sobre la orientación educativa que \\nimpulsen las propias fortalezas y potencialidades y favorezcan el desarrollo de la \\nautoestima y la autonomía personal.\\nLas medidas de refuerzo educativo se aplicarán por el profesorado que las han \\nplanificado y se revisarán durante su desarrollo, pudiéndose dar por finalizadas cuando \\nel alumno haya superado las dificultades.\\n2. De conformidad con lo establecido en el artículo 20.6 del Decreto 38/2022, de 29 \\nde septiembre, cuando un alumno esté repitiendo curso, el equipo docente que le atiende \\ndiseñará y aplicará un plan específico de refuerzo, según el modelo establecido en el \\nanexo I, en base a un informe elaborado por el equipo docente que le atendió el curso \\nanterior y teniendo en cuenta las necesidades que se detecten en la evaluación inicial.\\nEn la elaboración de este plan se tendrá en cuenta que las condiciones curriculares'),\n",
       " Document(metadata={'source': 'C:\\\\Users\\\\Usuario\\\\Desktop\\\\Universidad_23_24\\\\TFG\\\\EL_NUEVO\\\\docs\\\\Decreto primaria octubre 29 SEP 2022.pdf', 'page': 35}, page_content='Boletín Oficial de Castilla y León\\nNúm. 190 Pág. 48351Viernes, 30 de septiembre de 2022\\nCompetencia personal, social y de aprender a aprender (CPSAA) \\nDescriptores operativos: \\n \\n  \\nAl completar la educación primaria, el alumno o la alumna…  Al completar la enseñanza básica, el alumno o la alumna…  \\nCPSAA1. Es consciente de las propias emociones, ideas y \\ncomportamientos personales y emplea estrategias para \\ngestionarlas en situaciones de tensión o conflicto, \\nadaptándose a los cambios y armonizándolos para \\nalcanzar sus propios objetivos.  \\nCPSAA1. Regula y expresa sus emociones, fortaleciendo el \\noptimismo, la resiliencia, la autoeficacia y la búsqueda \\nde propósito y motivación hacia el aprendizaje, para \\ngestionar los retos y cambios y armonizarlos con sus \\npropios objetivos. \\nCPSAA2. Conoce los riesgos más relevantes y los principales \\nactivos para la salud, adopta estilos de vida saludables \\npara su bienestar físico y mental, y detecta y busca \\napoyo ante situaciones violentas o discriminatorias.  \\nCPSAA2. Comprende los riesgos para la salud relacionados \\ncon factores sociales, consolida estilos de vida saludable \\na nivel físico y mental, reconoce conductas contrarias a \\nla convivencia y aplica estrategias para abordarlas  \\nCPSAA3. Reconoce y respeta las emociones y experiencias \\nde las demás  personas, participa activamente en el \\ntrabajo en grupo, asume las responsabilidades \\nindividuales asignadas y emplea estrategias \\ncooperativas dirigidas a la consecución de objetivos \\ncompartidos. \\nCPSAA3. Comprende proactivamente las perspectivas y las \\nexperiencias de las demás personas y las incorpora a su \\naprendizaje, para participar en el trabajo en grupo, \\ndistribuyendo y aceptando tareas y responsabilidades de \\nmanera equitativa y empleando estrategias cooperativas \\nCPSAA4. Reconoce el valor del esfuerzo y  la dedicación \\npersonal para la mejora de su aprendizaje y adopta \\nposturas críticas en procesos de reflexión guiados.'),\n",
       " Document(metadata={'source': 'C:\\\\Users\\\\Usuario\\\\Desktop\\\\Universidad_23_24\\\\TFG\\\\EL_NUEVO\\\\docs\\\\Decreto secundaria octubre.pdf', 'page': 43}, page_content='Boletín Oficial de Castilla y León\\nNúm. 190 Pág. 48893Viernes, 30 de septiembre de 2022\\nCompetencia personal, social y de aprender a aprender (CPSAA) \\nDescriptores operativos: \\n \\n  \\nAl completar la educación primaria, el alumno o la alumna…  Al completar la enseñanza básica, el alumno o la alumna…  \\nCPSAA1. Es consciente de las propias emociones, ideas y \\ncomportamientos personales y emplea estrategias para \\ngestionarlas en situaciones de tensión o conflicto, \\nadaptándose a los cambios y armonizándolos para \\nalcanzar sus propios objetivos.  \\nCPSAA1. Regula y expresa sus emociones, fortaleciendo el \\noptimismo, la resiliencia, la autoeficacia y la búsqueda \\nde propósito y motivación hacia el aprend izaje, para \\ngestionar los retos y cambios y armonizarlos con sus \\npropios objetivos. \\nCPSAA2. Conoce los riesgos más relevantes y los principales \\nactivos para la salud, adopta estilos de vida saludables \\npara su bienestar físico y mental, y detecta y busca \\napoyo ante situaciones violentas o discriminatorias.  \\nCPSAA2. Comprende los riesgos para la salud relacionados \\ncon factores sociales, consolida estilos de vida saludable \\na nivel físico y mental, reconoce conductas contrarias a \\nla convivencia y aplica estrategias para abordarlas  \\nCPSAA3. Reconoce y respeta las emociones y experiencias \\nde las demás personas, participa activamente en el \\ntrabajo en grupo, asume las responsabilidades \\nindividuales asignadas y emplea estrategias \\ncooperativas dirigidas a la consecuci ón de objetivos \\ncompartidos. \\nCPSAA3. Comprende proactivamente las perspectivas y las \\nexperiencias de las demás personas y las incorpora a su \\naprendizaje, para participar en el trabajo en grupo, \\ndistribuyendo y aceptando tareas y responsabilidades de \\nmanera equitativa y empleando estrategias cooperativas \\nCPSAA4. Reconoce el valor del esfuerzo y la dedicación \\npersonal para la mejora de su aprendizaje y adopta \\nposturas críticas en procesos de reflexión guiados.'),\n",
       " Document(metadata={'source': 'C:\\\\Users\\\\Usuario\\\\Desktop\\\\Universidad_23_24\\\\TFG\\\\EL_NUEVO\\\\docs\\\\decreto de infantil 30 de octubre 29 DE SEPTIEMBRE.pdf', 'page': 11}, page_content='Boletín Oficial de Castilla y León\\nNúm. 190 Pág. 48202Viernes, 30 de septiembre de 2022\\nsituación de aprendizaje el conjunto de momentos, cir cunstancias, disposiciones y \\nescenarios alineados con las competencias clave y con las competencias específicas \\na ellas vinculadas, que requieren por parte del alumnado la resolución de actividades \\ny tareas secuenciadas a través de la movilización de estrategias y contenidos, y que \\ncontribuyen a la adquisición y desarrollo de las competencias. \\n2. En el anexo II.C se determinan orientaciones para el diseño y desarrollo de \\nsituaciones de aprendizaje. En todo caso, estas deberán: \\na) Ser globalizadas; es decir, deberán incluir contenidos de varias áreas. \\nb) Ser estimulantes; es decir, deberán tener interés para el alumnado. \\nc) Ser significativas; es decir, deberán partir de los conocimientos previos del \\nalumnado en relación con contextos cotidianos de los ámbitos personal, \\nfamiliar, social y/o educativo. \\nd) Ser inclusivas; es decir, deberán garantizar el acceso a las mismas de todo \\nel alumnado, adecuándolas a sus características evolutivas y a sus ritmos \\ny estilos de aprendizaje. \\nArtículo 13. Elementos transversales del currículo. \\n1. Además de los establecidos en el artículo 6 del Real Decreto 95/2022, de 1 de \\nfebrero, durante esta etapa se trabajarán la cooperación  y colaboración, la \\nestimulación creativa y el desarrollo de hábitos y rutinas.  \\n2. Asimismo, se favorecerá que el alumnado establezca relaciones proactivas, \\ninteractuando con el entorno más cercano a través de experiencias de aprendizaje \\nque propicien una educación para la convivencia positiva y armónica, el cuidado del \\nmedioambiente y el fomento del bienestar, iniciándose en el valor del diverso \\npatrimonio rural de la Comunidad de Castilla y León.  \\nCAPÍTULO III \\nOrganización de la etapa \\nArtículo 14. Áreas de la etapa. \\n1. De acuerdo con lo establecido en el artículo 8 del Real Decreto 95/2022, de 1')]"
      ]
     },
     "execution_count": 15,
     "metadata": {},
     "output_type": "execute_result"
    }
   ],
   "source": [
    "retriever.invoke(\"Es aceptable tener una única clase con 35 alumnos de primaria?\")"
   ]
  },
  {
   "cell_type": "code",
   "execution_count": 16,
   "metadata": {},
   "outputs": [
    {
     "data": {
      "text/plain": [
       "[Document(metadata={'doc_id': '8057205b-73f4-481b-9886-bccee466b956', 'page': 36, 'source': 'C:\\\\Users\\\\Usuario\\\\Desktop\\\\Universidad_23_24\\\\TFG\\\\EL_NUEVO\\\\docs\\\\Decreto primaria octubre 29 SEP 2022.pdf'}, page_content='Boletín Oficial de Castilla y León\\nNúm. 190 Pág. 48352Viernes, 30 de septiembre de 2022\\nCompetencia ciudadana (CC) \\nDescriptores operativos: \\n \\n  \\nAl completar la educación primaria, el alumno o la alumna…  Al completar la enseñanza básica, el alumno o la alumna…  \\nCC1. Entiende los procesos históricos y sociales más \\nrelevantes relativos a su propia identidad y cultura,'),\n",
       " Document(metadata={'doc_id': '3a05450f-ba4a-4ca8-aa2c-74b272a5b2be', 'page': 44, 'source': 'C:\\\\Users\\\\Usuario\\\\Desktop\\\\Universidad_23_24\\\\TFG\\\\EL_NUEVO\\\\docs\\\\Decreto secundaria octubre.pdf'}, page_content='Boletín Oficial de Castilla y León\\nNúm. 190 Pág. 48894Viernes, 30 de septiembre de 2022\\nCompetencia ciudadana (CC) \\nDescriptores operativos: \\n \\n  \\nAl completar la educación primaria, el alumno o la alumna…  Al completar la enseñanza básica, el alumno o la alumna…  \\nCC1. Entiende los procesos históricos y sociales más \\nrelevantes relativos a su propia identidad y cultura,'),\n",
       " Document(metadata={'doc_id': '1700016b-57a3-4fee-ac99-50f0f5fcbe85', 'page': 43, 'source': 'C:\\\\Users\\\\Usuario\\\\Desktop\\\\Universidad_23_24\\\\TFG\\\\EL_NUEVO\\\\docs\\\\Decreto secundaria octubre.pdf'}, page_content='Boletín Oficial de Castilla y León\\nNúm. 190 Pág. 48893Viernes, 30 de septiembre de 2022\\nCompetencia personal, social y de aprender a aprender (CPSAA) \\nDescriptores operativos: \\n \\n  \\nAl completar la educación primaria, el alumno o la alumna…  Al completar la enseñanza básica, el alumno o la alumna…  \\nCPSAA1. Es consciente de las propias emociones, ideas y'),\n",
       " Document(metadata={'doc_id': 'b7cca998-902a-4828-8248-961f52bc7fd8', 'page': 35, 'source': 'C:\\\\Users\\\\Usuario\\\\Desktop\\\\Universidad_23_24\\\\TFG\\\\EL_NUEVO\\\\docs\\\\Decreto primaria octubre 29 SEP 2022.pdf'}, page_content='Boletín Oficial de Castilla y León\\nNúm. 190 Pág. 48351Viernes, 30 de septiembre de 2022\\nCompetencia personal, social y de aprender a aprender (CPSAA) \\nDescriptores operativos: \\n \\n  \\nAl completar la educación primaria, el alumno o la alumna…  Al completar la enseñanza básica, el alumno o la alumna…  \\nCPSAA1. Es consciente de las propias emociones, ideas y')]"
      ]
     },
     "execution_count": 16,
     "metadata": {},
     "output_type": "execute_result"
    }
   ],
   "source": [
    "retriever.vectorstore.similarity_search(\"Primaria\")"
   ]
  },
  {
   "cell_type": "code",
   "execution_count": null,
   "metadata": {},
   "outputs": [
    {
     "name": "stdout",
     "output_type": "stream",
     "text": [
      "5149\n",
      "{'ids': ['7b7fced6-b381-4c66-a54f-e690aa5de810', '9db643d6-fb24-41be-8cd2-15242fbeab83', '621386ec-83d1-45da-992b-3698b1c41026', '27fd5a48-869e-4c76-86da-31376a171784', 'cb7db874-523d-4095-b711-087f16a145fd', '06380e31-ad5f-4b3b-880f-5c69c16c7c7c', '61db5ef8-13c2-4e60-b40c-de8c501486fa', 'fa662d5d-8c98-43f5-9dbe-155345a05c21', 'bcf1d8bd-8e5a-41a1-ae2f-2a44837240c1', '85af14c9-b807-4c3e-bf11-c000b62878e3'], 'embeddings': None, 'metadatas': [{'author': 'JUNTA DE CASTILLA Y LEÓN', 'creationdate': '2024-05-16T13:54:42+02:00', 'creator': 'Adobe InDesign 19.4 (Windows)', 'doc_id': '2ad7db1f-622c-4719-97c3-53406f09e025', 'moddate': '2024-05-17T07:30:24+02:00', 'producer': 'Adobe PDF Library 17.0; modified using iText 2.1.7 by 1T3XT', 'source': 'C:\\\\Users\\\\Usuario\\\\Desktop\\\\Universidad_23_24\\\\TFG\\\\EL_NUEVO\\\\docs\\\\BOCYL-D-17052024-2 2024.pdf', 'title': 'BOCyL n.º 95,  17 de mayo de 2024 - Disp. 002', 'total_pages': 49, 'trapped': '/False'}, {'author': 'JUNTA DE CASTILLA Y LEÓN', 'creationdate': '2024-05-16T13:54:42+02:00', 'creator': 'Adobe InDesign 19.4 (Windows)', 'doc_id': '2ad7db1f-622c-4719-97c3-53406f09e025', 'moddate': '2024-05-17T07:30:24+02:00', 'producer': 'Adobe PDF Library 17.0; modified using iText 2.1.7 by 1T3XT', 'source': 'C:\\\\Users\\\\Usuario\\\\Desktop\\\\Universidad_23_24\\\\TFG\\\\EL_NUEVO\\\\docs\\\\BOCYL-D-17052024-2 2024.pdf', 'title': 'BOCyL n.º 95,  17 de mayo de 2024 - Disp. 002', 'total_pages': 49, 'trapped': '/False'}, {'author': 'JUNTA DE CASTILLA Y LEÓN', 'creationdate': '2024-05-16T13:54:42+02:00', 'creator': 'Adobe InDesign 19.4 (Windows)', 'doc_id': '2ad7db1f-622c-4719-97c3-53406f09e025', 'moddate': '2024-05-17T07:30:24+02:00', 'producer': 'Adobe PDF Library 17.0; modified using iText 2.1.7 by 1T3XT', 'source': 'C:\\\\Users\\\\Usuario\\\\Desktop\\\\Universidad_23_24\\\\TFG\\\\EL_NUEVO\\\\docs\\\\BOCYL-D-17052024-2 2024.pdf', 'title': 'BOCyL n.º 95,  17 de mayo de 2024 - Disp. 002', 'total_pages': 49, 'trapped': '/False'}, {'author': 'JUNTA DE CASTILLA Y LEÓN', 'creationdate': '2024-05-16T13:54:42+02:00', 'creator': 'Adobe InDesign 19.4 (Windows)', 'doc_id': '2ad7db1f-622c-4719-97c3-53406f09e025', 'moddate': '2024-05-17T07:30:24+02:00', 'producer': 'Adobe PDF Library 17.0; modified using iText 2.1.7 by 1T3XT', 'source': 'C:\\\\Users\\\\Usuario\\\\Desktop\\\\Universidad_23_24\\\\TFG\\\\EL_NUEVO\\\\docs\\\\BOCYL-D-17052024-2 2024.pdf', 'title': 'BOCyL n.º 95,  17 de mayo de 2024 - Disp. 002', 'total_pages': 49, 'trapped': '/False'}, {'author': 'JUNTA DE CASTILLA Y LEÓN', 'creationdate': '2024-05-16T13:54:42+02:00', 'creator': 'Adobe InDesign 19.4 (Windows)', 'doc_id': '2ad7db1f-622c-4719-97c3-53406f09e025', 'moddate': '2024-05-17T07:30:24+02:00', 'producer': 'Adobe PDF Library 17.0; modified using iText 2.1.7 by 1T3XT', 'source': 'C:\\\\Users\\\\Usuario\\\\Desktop\\\\Universidad_23_24\\\\TFG\\\\EL_NUEVO\\\\docs\\\\BOCYL-D-17052024-2 2024.pdf', 'title': 'BOCyL n.º 95,  17 de mayo de 2024 - Disp. 002', 'total_pages': 49, 'trapped': '/False'}, {'author': 'JUNTA DE CASTILLA Y LEÓN', 'creationdate': '2024-05-16T13:54:42+02:00', 'creator': 'Adobe InDesign 19.4 (Windows)', 'doc_id': '2ad7db1f-622c-4719-97c3-53406f09e025', 'moddate': '2024-05-17T07:30:24+02:00', 'producer': 'Adobe PDF Library 17.0; modified using iText 2.1.7 by 1T3XT', 'source': 'C:\\\\Users\\\\Usuario\\\\Desktop\\\\Universidad_23_24\\\\TFG\\\\EL_NUEVO\\\\docs\\\\BOCYL-D-17052024-2 2024.pdf', 'title': 'BOCyL n.º 95,  17 de mayo de 2024 - Disp. 002', 'total_pages': 49, 'trapped': '/False'}, {'author': 'JUNTA DE CASTILLA Y LEÓN', 'creationdate': '2024-05-16T13:54:42+02:00', 'creator': 'Adobe InDesign 19.4 (Windows)', 'doc_id': '2ad7db1f-622c-4719-97c3-53406f09e025', 'moddate': '2024-05-17T07:30:24+02:00', 'producer': 'Adobe PDF Library 17.0; modified using iText 2.1.7 by 1T3XT', 'source': 'C:\\\\Users\\\\Usuario\\\\Desktop\\\\Universidad_23_24\\\\TFG\\\\EL_NUEVO\\\\docs\\\\BOCYL-D-17052024-2 2024.pdf', 'title': 'BOCyL n.º 95,  17 de mayo de 2024 - Disp. 002', 'total_pages': 49, 'trapped': '/False'}, {'author': 'JUNTA DE CASTILLA Y LEÓN', 'creationdate': '2024-05-16T13:54:42+02:00', 'creator': 'Adobe InDesign 19.4 (Windows)', 'doc_id': '2ad7db1f-622c-4719-97c3-53406f09e025', 'moddate': '2024-05-17T07:30:24+02:00', 'producer': 'Adobe PDF Library 17.0; modified using iText 2.1.7 by 1T3XT', 'source': 'C:\\\\Users\\\\Usuario\\\\Desktop\\\\Universidad_23_24\\\\TFG\\\\EL_NUEVO\\\\docs\\\\BOCYL-D-17052024-2 2024.pdf', 'title': 'BOCyL n.º 95,  17 de mayo de 2024 - Disp. 002', 'total_pages': 49, 'trapped': '/False'}, {'author': 'JUNTA DE CASTILLA Y LEÓN', 'creationdate': '2024-05-16T13:54:42+02:00', 'creator': 'Adobe InDesign 19.4 (Windows)', 'doc_id': '2ad7db1f-622c-4719-97c3-53406f09e025', 'moddate': '2024-05-17T07:30:24+02:00', 'producer': 'Adobe PDF Library 17.0; modified using iText 2.1.7 by 1T3XT', 'source': 'C:\\\\Users\\\\Usuario\\\\Desktop\\\\Universidad_23_24\\\\TFG\\\\EL_NUEVO\\\\docs\\\\BOCYL-D-17052024-2 2024.pdf', 'title': 'BOCyL n.º 95,  17 de mayo de 2024 - Disp. 002', 'total_pages': 49, 'trapped': '/False'}, {'author': 'JUNTA DE CASTILLA Y LEÓN', 'creationdate': '2024-05-16T13:54:42+02:00', 'creator': 'Adobe InDesign 19.4 (Windows)', 'doc_id': '2ad7db1f-622c-4719-97c3-53406f09e025', 'moddate': '2024-05-17T07:30:24+02:00', 'producer': 'Adobe PDF Library 17.0; modified using iText 2.1.7 by 1T3XT', 'source': 'C:\\\\Users\\\\Usuario\\\\Desktop\\\\Universidad_23_24\\\\TFG\\\\EL_NUEVO\\\\docs\\\\BOCYL-D-17052024-2 2024.pdf', 'title': 'BOCyL n.º 95,  17 de mayo de 2024 - Disp. 002', 'total_pages': 49, 'trapped': '/False'}], 'documents': ['Boletín Oficial de Castilla y León\\nNúm. 95 Pág. 17Viernes, 17 de mayo de 2024\\nI. COMUNIDAD DE CASTILLA Y LEÓN\\nA. DISPOSICIONES GENERALES\\nCONSEJERÍA DE EDUCACIÓN\\nORDEN EDU/423/2024, de 9 de mayo, por la que se desarrolla la evaluación y la \\npromoción en la Educación Primaria en la Comunidad de Castilla y León.\\nLa Ley Orgánica 2/2006, de 3 de mayo, de Educación, tras su modificación por la Ley \\nOrgánica 3/2020, de 29 de diciembre, introduce importantes cambios en la evaluación y la \\npromoción, dedicando el artículo 20 a su regulación en educación primaria.\\nEl Real Decreto 157/2022, de 1 de marzo, por el que se establecen la ordenación \\ny las enseñanzas mínimas de la Educación Primaria, regula, en sus artículos 14 y 15 la \\nevaluación y la promoción, respectivamente. Por su parte, el Decreto 38/2022, de 29 de \\nseptiembre, por el que se establece la ordenación y el currículo de la educación primaria \\nen la Comunidad de Castilla y León, dedica el Capítulo IV a la evaluación y promoción en', 'septiembre, por el que se establece la ordenación y el currículo de la educación primaria \\nen la Comunidad de Castilla y León, dedica el Capítulo IV a la evaluación y promoción en \\nesta etapa, siendo preciso su desarrollo.\\nLa presente orden, tras fijar el objeto y ámbito de aplicación, conceptualiza y caracteriza \\nla evaluación de los aprendizajes del alumnado, establece sus elementos, determina el \\nproceso de calificación de dichos aprendizajes, ordena el proceso de toma de decisiones \\ndel profesorado, fija los criterios de promoción, regula los procedimientos de aclaración \\ny reclamación, concreta el contenido de los documentos oficiales de evaluación, además \\nde aprobar sus modelos y, por último, desarrolla la evaluación de la práctica docente.\\nDe conformidad con el artículo 76.2, en relación con el artículo 75, de la Ley 3/2001, de \\n3 de julio, del Gobierno y de la Administración de la Comunidad de Castilla y León, y con el', 'De conformidad con el artículo 76.2, en relación con el artículo 75, de la Ley 3/2001, de \\n3 de julio, del Gobierno y de la Administración de la Comunidad de Castilla y León, y con el \\nartículo 133 de la Ley 39/2015, de 1 de octubre, del Procedimiento Administrativo Común \\nde las Administraciones Públicas, en la tramitación de esta orden se han sustanciado los \\ntrámites de consulta pública previa y de audiencia e información pública a través de su \\npublicación en el Portal de Gobierno Abierto de la Junta de Castilla y León. Asimismo, \\nse ha recabado dictamen del Consejo Escolar de Castilla y León de conformidad con el \\nartículo 8.1.a) de la Ley 3/1999, de 17 de marzo, del Consejo Escolar de Castilla y León.\\nEn su virtud, en ejercicio de las facultades conferidas por la Ley 3/2001, de 3 de julio, \\ndel Gobierno y de la Administración de la Comunidad de Castilla y León, y de conformidad \\ncon lo establecido en el Decreto 14/2022, de 5 de mayo, por el que establece la estructura', 'del Gobierno y de la Administración de la Comunidad de Castilla y León, y de conformidad \\ncon lo establecido en el Decreto 14/2022, de 5 de mayo, por el que establece la estructura \\norgánica de la Consejería de Educación,\\nDISPONGO\\nArtículo 1. Objeto y ámbito de aplicación.\\n1. La presente orden tiene por objeto desarrollar la evaluación y la promoción en la \\neducación primaria en la Comunidad de Castilla y León.\\nCV: BOCYL-D-17052024-2\\n\\x0cBoletín Oficial de Castilla y León\\nNúm. 95 Pág. 18Viernes, 17 de mayo de 2024\\n2. La presente orden será de aplicación en todos los centros de la Comunidad de \\nCastilla y León que impartan las enseñanzas de educación primaria.\\nArtículo 2. Evaluación de los aprendizajes del alumnado.\\n1. La evaluación de los aprendizajes del alumnado permite obtener información sobre \\nel progreso de este a través del desarrollo de actividades y tareas que el docente pone \\nen práctica al objeto de realizar valoraciones que se utilicen para la toma de decisiones.', 'el progreso de este a través del desarrollo de actividades y tareas que el docente pone \\nen práctica al objeto de realizar valoraciones que se utilicen para la toma de decisiones. \\nSe integrará en los procesos de enseñanza y aprendizaje que se implementan desde \\ncada una de las áreas y, en su caso, ámbitos que forman parte de la oferta educativa del \\ncentro, por lo que será parte del quehacer diario del aula.\\nLa evaluación tiene como objetivos la mejora del aprendizaje de todos y cada uno \\nde los alumnos, la mejora de los procesos de enseñanza y, en última instancia, la mejora \\ndel sistema educativo.\\n2. De conformidad con el artículo 19.1 del Decreto 38/2022, de 29 de septiembre, por \\nel que se establece la ordenación y el currículo de la educación primaria en la Comunidad \\nde Castilla y León, la evaluación en esta etapa será global, continua, formativa, criterial \\ny orientadora:\\na) Será globa l en la medida que valora el grado de desarrollo de las competencias', 'de Castilla y León, la evaluación en esta etapa será global, continua, formativa, criterial \\ny orientadora:\\na) Será globa l en la medida que valora el grado de desarrollo de las competencias \\nclave, proporcionando así información sobre el progreso del alumnado en todos \\nsus ámbitos de manera interrelacionada con una visión holística del aprendizaje.\\nb) Será continua en la medida que se realiza a lo largo de todo el proceso de \\naprendizaje y no exclusivamente en momentos puntuales, lo que permitirá contar \\ncon información sobre el aprendizaje del alumnado ante cualquier circunstancia.\\nc) Será formativa en la medida que contribuye a la mejora del proceso educativo \\ny permite adecuar la práctica docente a las necesidades de aprendizaje del \\nalumnado.\\nd) Será criterial en la medida que se lleva a cabo a partir de criterios de evaluación \\ny calificación, objetivos y conocidos por el alumnado y sus familias, lo que \\nproporcionará objetividad en el proceso de evaluación del alumnado.', 'y calificación, objetivos y conocidos por el alumnado y sus familias, lo que \\nproporcionará objetividad en el proceso de evaluación del alumnado.\\ne) Será orien tadora en la medida que permite guiar en todo momento al alumnado \\nen su desarrollo, en sus actitudes y en sus estrategias de aprendizaje, así como \\nal profesorado en el desarrollo del proceso de enseñanza y en la adopción de \\ndecisiones para proporcionar el apoyo necesario y compensar las diferentes \\ncondiciones de desarrollo y aprendizaje.\\n3. El equipo docente del grupo, coordinado por quien ejerza la tutoría del grupo, \\nvelará por que se respete el carácter global, continuo, formativo, criterial y orientador de \\nla evaluación, como garantía del derecho a que la dedicación, esfuerzo y rendimiento del \\nalumnado sean valorados y reconocidos con objetividad.\\nArtículo 3. Elementos de la evaluación de los aprendizajes del alumnado.\\n1. De conformidad con el artículo 19.1 del Decreto 38/2022, de 29 de septiembre,', 'Artículo 3. Elementos de la evaluación de los aprendizajes del alumnado.\\n1. De conformidad con el artículo 19.1 del Decreto 38/2022, de 29 de septiembre, \\nen esta etapa la evaluación de los aprendizajes del alumnado tendrá en cuenta el grado \\nde desarrollo de las competencias clave y su progreso en el conjunto de los procesos de \\naprendizaje.\\nCV: BOCYL-D-17052024-2\\n\\x0cBoletín Oficial de Castilla y León\\nNúm. 95 Pág. 19Viernes, 17 de mayo de 2024\\n2. Los referentes fundamentales, a fin de valorar el grado de adquisición de las \\ncompetencias clave y las competencias específicas, serán los criterios de evaluación de \\nlas diferentes áreas y, en su caso, ámbitos.\\nEl profesorado podrá desglosar los criterios de evaluación en elementos más \\nconcretos, observables y medibles, que le permita estimar niveles de desempeño de \\ndichos criterios, y así valorar convenientemente el progreso del alumnado.\\n3. En el proceso de evaluación del alumnado se emplearán instrumentos variados', 'dichos criterios, y así valorar convenientemente el progreso del alumnado.\\n3. En el proceso de evaluación del alumnado se emplearán instrumentos variados \\npertenecientes a diferentes técnicas, que atiendan a las necesidades de todo su \\nalumnado y que se acomoden a los criterios de evaluación que se pretendan evaluar \\nen cada situación de aprendizaje. En todo caso, se priorizará la utilización de técnicas \\ne instrumentos que permitan valorar el proceso de aprendizaje sobre los que permiten \\nvalorar los resultados.\\nEn los dos últimos cursos de la etapa se incorporarán pruebas orales de evaluación \\nen todas las áreas y, en su caso, ámbitos, con independencia de su utilización en los \\ndemás cursos.\\n4. La evaluación se llevará a cabo de forma continuada durante el curso, desde \\nsu inicio y en diferentes momentos, hasta concluir con una valoración sumativa a su \\nfinalización en la que se considere el progreso del alumno a lo largo del curso escolar.', 'su inicio y en diferentes momentos, hasta concluir con una valoración sumativa a su \\nfinalización en la que se considere el progreso del alumno a lo largo del curso escolar.\\nAl comienzo de cada curso el profesorado realizará una evaluación inicial según el \\nnivel de partida del alumnado, a partir de una selección de criterios de evaluación. Esta \\nevaluación, que constituye la base para programar el proceso de enseñanza y aprendizaje \\ndurante el curso, permitirá al profesorado identificar los conocimientos previos y detectar \\nposibles dificultades de aprendizaje del alumnado.\\nA lo largo del curso, y como una parte más del proceso de enseñanza y aprendizaje, \\nel profesorado evaluará los aprendizajes del alumnado. Esta evaluación proporcionará \\ninformación al profesorado sobre el progreso del alumnado en el proceso de aprendizaje.\\nComo complemento de la evaluación continuada, el profesorado, al final de cada'], 'data': None, 'uris': None, 'included': ['documents', 'metadatas']}\n"
     ]
    }
   ],
   "source": [
    "# col = client.get_or_create_collection(\"prueba_kafka_child\")  # create a new collection with L2 (default)\n",
    "# newCol = client.get_or_create_collection(\"prueba_kafka_child_augmented\")\n",
    "# existing_count = col.count()\n",
    "# batch_size = 10\n",
    "# for i in range(0, existing_count, batch_size):\n",
    "#     batch = col.get(include=[\"metadatas\", \"documents\", \"embeddings\"], limit=batch_size, offset=i)\n",
    "#     newCol.add(ids=batch[\"ids\"], documents=batch[\"documents\"], metadatas=batch[\"metadatas\"],\n",
    "#                embeddings=batch[\"embeddings\"])\n",
    "\n",
    "# print(newCol.count())\n",
    "# print(newCol.get(offset=0, limit=10))  # get first 10 documents\n"
   ]
  },
  {
   "cell_type": "code",
   "execution_count": null,
   "metadata": {},
   "outputs": [],
   "source": []
  }
 ],
 "metadata": {
  "kernelspec": {
   "display_name": "env",
   "language": "python",
   "name": "python3"
  },
  "language_info": {
   "codemirror_mode": {
    "name": "ipython",
    "version": 3
   },
   "file_extension": ".py",
   "mimetype": "text/x-python",
   "name": "python",
   "nbconvert_exporter": "python",
   "pygments_lexer": "ipython3",
   "version": "3.12.5"
  }
 },
 "nbformat": 4,
 "nbformat_minor": 4
}
