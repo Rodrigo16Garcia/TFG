{
 "cells": [
  {
   "cell_type": "code",
   "execution_count": 1,
   "metadata": {},
   "outputs": [],
   "source": [
    "import chromadb\n",
    "import uuid\n",
    "from langchain_community.vectorstores import Chroma\n",
    "from langchain_community.embeddings.sentence_transformer import SentenceTransformerEmbeddings\n",
    "from langchain_text_splitters import RecursiveCharacterTextSplitter\n",
    "from langchain_community.document_loaders import PyPDFLoader\n",
    "import numpy as np\n",
    "from langchain.retrievers import ParentDocumentRetriever\n",
    "from langchain.storage import InMemoryStore\n",
    "import pickle"
   ]
  },
  {
   "cell_type": "code",
   "execution_count": 2,
   "metadata": {},
   "outputs": [
    {
     "name": "stderr",
     "output_type": "stream",
     "text": [
      "C:\\Users\\Usuario\\AppData\\Local\\Temp\\ipykernel_3296\\3002436811.py:1: LangChainDeprecationWarning: The class `HuggingFaceEmbeddings` was deprecated in LangChain 0.2.2 and will be removed in 1.0. An updated version of the class exists in the :class:`~langchain-huggingface package and should be used instead. To use it run `pip install -U :class:`~langchain-huggingface` and import as `from :class:`~langchain_huggingface import HuggingFaceEmbeddings``.\n",
      "  embedding_model = SentenceTransformerEmbeddings(model_name=\"all-MiniLM-L6-v2\")\n"
     ]
    }
   ],
   "source": [
    "embedding_model = SentenceTransformerEmbeddings(model_name=\"all-MiniLM-L6-v2\")"
   ]
  },
  {
   "cell_type": "code",
   "execution_count": 6,
   "metadata": {},
   "outputs": [],
   "source": [
    "loaders = [\n",
    "    PyPDFLoader(r\"C:\\Users\\Usuario\\Desktop\\Universidad_23_24\\TFG\\EL_NUEVO\\docs\\BOCYL-D-17052024-2 2024.pdf\"),\n",
    "    PyPDFLoader(r\"C:\\Users\\Usuario\\Desktop\\Universidad_23_24\\TFG\\EL_NUEVO\\docs\\decreto de infantil 30 de octubre 29 DE SEPTIEMBRE.pdf\"),\n",
    "    PyPDFLoader(r\"C:\\Users\\Usuario\\Desktop\\Universidad_23_24\\TFG\\EL_NUEVO\\docs\\Decreto primaria octubre 29 SEP 2022.pdf\"),\n",
    "    PyPDFLoader(r\"C:\\Users\\Usuario\\Desktop\\Universidad_23_24\\TFG\\EL_NUEVO\\docs\\Decreto secundaria octubre.pdf\"),\n",
    "    PyPDFLoader(r\"C:\\Users\\Usuario\\Desktop\\Universidad_23_24\\TFG\\EL_NUEVO\\docs\\Franz_Kafka_The_Metamorphosis.pdf\")\n",
    "]\n",
    "\n",
    "docs = []\n",
    "for loader in loaders:\n",
    "    docs.extend(loader.load())"
   ]
  },
  {
   "cell_type": "code",
   "execution_count": 3,
   "metadata": {},
   "outputs": [],
   "source": [
    "parent_splitter = RecursiveCharacterTextSplitter(chunk_size= 2000, chunk_overlap=200)\n",
    "child_splitter = RecursiveCharacterTextSplitter(chunk_size= 400)\n",
    "\n",
    "coleccion = \"prueba_kafka_child\"\n"
   ]
  },
  {
   "cell_type": "code",
   "execution_count": 8,
   "metadata": {},
   "outputs": [],
   "source": [
    "# from langchain_core.documents import Document\n",
    "\n",
    "# chunks = [Document(page_content=\"Hola\", metadata={\"page\": 3333})]"
   ]
  },
  {
   "cell_type": "code",
   "execution_count": 4,
   "metadata": {},
   "outputs": [
    {
     "data": {
      "text/plain": [
       "[Collection(name=prueba_kafka),\n",
       " Collection(name=prueba_kafka_large),\n",
       " Collection(name=prueba_kafka_child)]"
      ]
     },
     "metadata": {},
     "output_type": "display_data"
    },
    {
     "name": "stderr",
     "output_type": "stream",
     "text": [
      "C:\\Users\\Usuario\\AppData\\Local\\Temp\\ipykernel_3296\\678315488.py:6: LangChainDeprecationWarning: The class `Chroma` was deprecated in LangChain 0.2.9 and will be removed in 1.0. An updated version of the class exists in the :class:`~langchain-chroma package and should be used instead. To use it run `pip install -U :class:`~langchain-chroma` and import as `from :class:`~langchain_chroma import Chroma``.\n",
      "  collection = Chroma(collection_name=coleccion, client=client,  embedding_function=SentenceTransformerEmbeddings(model_name=\"all-MiniLM-L6-v2\"), persist_directory=r\"C:\\Users\\Usuario\\Desktop\\Universidad_23_24\\TFG\\EL_NUEVO\\docs\\desarrollo\\prueba\")\n"
     ]
    }
   ],
   "source": [
    "client = chromadb.HttpClient(\"localhost\", 7888)\n",
    "\n",
    "collection = client.get_or_create_collection(coleccion)\n",
    "\n",
    "display(client.list_collections())\n",
    "collection = Chroma(collection_name=coleccion, client=client,  embedding_function=SentenceTransformerEmbeddings(model_name=\"all-MiniLM-L6-v2\"), persist_directory=r\"C:\\Users\\Usuario\\Desktop\\Universidad_23_24\\TFG\\EL_NUEVO\\docs\\desarrollo\\prueba\")\n",
    "\n",
    "store = InMemoryStore() "
   ]
  },
  {
   "cell_type": "code",
   "execution_count": 6,
   "metadata": {},
   "outputs": [],
   "source": [
    "retriever = ParentDocumentRetriever(\n",
    "    vectorstore=collection,\n",
    "    docstore=store,\n",
    "    child_splitter=child_splitter,\n",
    "    parent_splitter=parent_splitter,\n",
    ")"
   ]
  },
  {
   "cell_type": "code",
   "execution_count": 11,
   "metadata": {},
   "outputs": [],
   "source": [
    "retriever.add_documents(docs)"
   ]
  },
  {
   "cell_type": "code",
   "execution_count": 28,
   "metadata": {},
   "outputs": [],
   "source": [
    "with open(\"parent_store.pkl\", 'wb') as outp:\n",
    "    pickle.dump(store, outp, pickle.HIGHEST_PROTOCOL)"
   ]
  },
  {
   "cell_type": "code",
   "execution_count": 5,
   "metadata": {},
   "outputs": [],
   "source": [
    "with open(\"parent_store.pkl\", 'rb') as inp:\n",
    "    store = pickle.load(inp)"
   ]
  },
  {
   "cell_type": "code",
   "execution_count": 7,
   "metadata": {},
   "outputs": [
    {
     "data": {
      "text/plain": [
       "2771"
      ]
     },
     "execution_count": 7,
     "metadata": {},
     "output_type": "execute_result"
    }
   ],
   "source": [
    "len(list(store.yield_keys()))"
   ]
  },
  {
   "cell_type": "code",
   "execution_count": 8,
   "metadata": {
    "scrolled": true
   },
   "outputs": [
    {
     "data": {
      "text/plain": [
       "(array(['C:\\\\Users\\\\Usuario\\\\Desktop\\\\Universidad_23_24\\\\TFG\\\\EL_NUEVO\\\\docs\\\\BOCYL-D-17052024-2 2024.pdf',\n",
       "        'C:\\\\Users\\\\Usuario\\\\Desktop\\\\Universidad_23_24\\\\TFG\\\\EL_NUEVO\\\\docs\\\\Decreto primaria octubre 29 SEP 2022.pdf',\n",
       "        'C:\\\\Users\\\\Usuario\\\\Desktop\\\\Universidad_23_24\\\\TFG\\\\EL_NUEVO\\\\docs\\\\Decreto secundaria octubre.pdf',\n",
       "        'C:\\\\Users\\\\Usuario\\\\Desktop\\\\Universidad_23_24\\\\TFG\\\\EL_NUEVO\\\\docs\\\\Franz_Kafka_The_Metamorphosis.pdf',\n",
       "        'C:\\\\Users\\\\Usuario\\\\Desktop\\\\Universidad_23_24\\\\TFG\\\\EL_NUEVO\\\\docs\\\\decreto de infantil 30 de octubre 29 DE SEPTIEMBRE.pdf'],\n",
       "       dtype='<U115'),\n",
       " 19701,\n",
       " None)"
      ]
     },
     "execution_count": 8,
     "metadata": {},
     "output_type": "execute_result"
    }
   ],
   "source": [
    "np.unique(np.array([ x[\"source\"] for x in collection.get()[\"metadatas\"]])), len(collection.get()[\"ids\"]), collection.get()[\"data\"]"
   ]
  },
  {
   "cell_type": "code",
   "execution_count": 31,
   "metadata": {},
   "outputs": [],
   "source": [
    "#client.delete_collection(\"prueba_kafka\")"
   ]
  },
  {
   "cell_type": "code",
   "execution_count": 9,
   "metadata": {},
   "outputs": [
    {
     "data": {
      "text/plain": [
       "[Document(metadata={'doc_id': 'b72dc07a-32b4-4dc1-9e25-4f9f631a3b4e', 'page': 5, 'source': 'C:\\\\Users\\\\Usuario\\\\Desktop\\\\Universidad_23_24\\\\TFG\\\\EL_NUEVO\\\\docs\\\\BOCYL-D-17052024-2 2024.pdf'}, page_content='1. En virtud de lo dispuesto en el artículo 19.9 del Decreto 38/2022, de 29 de \\nseptiembre, cuando el progreso del alumnado no sea el adecuado se establecerán \\nmedidas de refuerzo educativo.\\nEstas medidas deberán adoptarse en cualquier momento del curso, tan pronto \\ncomo se detecten las dificultades y estarán dirigidas a garantizar la adquisición de los'),\n",
       " Document(metadata={'doc_id': 'b7cca998-902a-4828-8248-961f52bc7fd8', 'page': 35, 'source': 'C:\\\\Users\\\\Usuario\\\\Desktop\\\\Universidad_23_24\\\\TFG\\\\EL_NUEVO\\\\docs\\\\Decreto primaria octubre 29 SEP 2022.pdf'}, page_content='Boletín Oficial de Castilla y León\\nNúm. 190 Pág. 48351Viernes, 30 de septiembre de 2022\\nCompetencia personal, social y de aprender a aprender (CPSAA) \\nDescriptores operativos: \\n \\n  \\nAl completar la educación primaria, el alumno o la alumna…  Al completar la enseñanza básica, el alumno o la alumna…  \\nCPSAA1. Es consciente de las propias emociones, ideas y'),\n",
       " Document(metadata={'doc_id': '1700016b-57a3-4fee-ac99-50f0f5fcbe85', 'page': 43, 'source': 'C:\\\\Users\\\\Usuario\\\\Desktop\\\\Universidad_23_24\\\\TFG\\\\EL_NUEVO\\\\docs\\\\Decreto secundaria octubre.pdf'}, page_content='Boletín Oficial de Castilla y León\\nNúm. 190 Pág. 48893Viernes, 30 de septiembre de 2022\\nCompetencia personal, social y de aprender a aprender (CPSAA) \\nDescriptores operativos: \\n \\n  \\nAl completar la educación primaria, el alumno o la alumna…  Al completar la enseñanza básica, el alumno o la alumna…  \\nCPSAA1. Es consciente de las propias emociones, ideas y'),\n",
       " Document(metadata={'doc_id': 'bff9d7bf-2edc-4a13-aa84-0a7a7d68fe4d', 'page': 11, 'source': 'C:\\\\Users\\\\Usuario\\\\Desktop\\\\Universidad_23_24\\\\TFG\\\\EL_NUEVO\\\\docs\\\\decreto de infantil 30 de octubre 29 DE SEPTIEMBRE.pdf'}, page_content='d) Ser inclusivas; es decir, deberán garantizar el acceso a las mismas de todo \\nel alumnado, adecuándolas a sus características evolutivas y a sus ritmos \\ny estilos de aprendizaje. \\nArtículo 13. Elementos transversales del currículo. \\n1. Además de los establecidos en el artículo 6 del Real Decreto 95/2022, de 1 de \\nfebrero, durante esta etapa se trabajarán la cooperación  y colaboración, la')]"
      ]
     },
     "execution_count": 9,
     "metadata": {},
     "output_type": "execute_result"
    }
   ],
   "source": [
    "collection.similarity_search(\"Es aceptable tener una única clase con 35 alumnos de primaria?\")"
   ]
  },
  {
   "cell_type": "code",
   "execution_count": 10,
   "metadata": {},
   "outputs": [
    {
     "data": {
      "text/plain": [
       "[Document(metadata={'source': 'C:\\\\Users\\\\Usuario\\\\Desktop\\\\Universidad_23_24\\\\TFG\\\\EL_NUEVO\\\\docs\\\\BOCYL-D-17052024-2 2024.pdf', 'page': 5}, page_content='Boletín Oficial de Castilla y León\\nNúm. 95 Pág. 22Viernes, 17 de mayo de 2024\\nArtículo 9. Medidas de refuerzo educativo, plan específico de refuerzo, plan de \\nrecuperación y plan de enriquecimiento curricular.\\n1. En virtud de lo dispuesto en el artículo 19.9 del Decreto 38/2022, de 29 de \\nseptiembre, cuando el progreso del alumnado no sea el adecuado se establecerán \\nmedidas de refuerzo educativo.\\nEstas medidas deberán adoptarse en cualquier momento del curso, tan pronto \\ncomo se detecten las dificultades y estarán dirigidas a garantizar la adquisición de los \\naprendizajes imprescindibles para continuar el proceso educativo.\\nSe planificarán por cualquiera de los docentes que atienden al alumno teniendo \\nen cuenta las necesidades que se detecten a partir de la información recogida en todo \\nmomento acerca del proceso de enseñanza y aprendizaje y evolución del alumnado.\\nEn su caso, las medidas de refuerzo educativo deberán adaptar la metodología, de \\nmanera que atiendan a la diversidad de capacidades, actitudes y ritmos de aprendizaje \\ne incorporarán, cuando así se requiera, aspectos sobre la orientación educativa que \\nimpulsen las propias fortalezas y potencialidades y favorezcan el desarrollo de la \\nautoestima y la autonomía personal.\\nLas medidas de refuerzo educativo se aplicarán por el profesorado que las han \\nplanificado y se revisarán durante su desarrollo, pudiéndose dar por finalizadas cuando \\nel alumno haya superado las dificultades.\\n2. De conformidad con lo establecido en el artículo 20.6 del Decreto 38/2022, de 29 \\nde septiembre, cuando un alumno esté repitiendo curso, el equipo docente que le atiende \\ndiseñará y aplicará un plan específico de refuerzo, según el modelo establecido en el \\nanexo I, en base a un informe elaborado por el equipo docente que le atendió el curso \\nanterior y teniendo en cuenta las necesidades que se detecten en la evaluación inicial.\\nEn la elaboración de este plan se tendrá en cuenta que las condiciones curriculares'),\n",
       " Document(metadata={'source': 'C:\\\\Users\\\\Usuario\\\\Desktop\\\\Universidad_23_24\\\\TFG\\\\EL_NUEVO\\\\docs\\\\Decreto primaria octubre 29 SEP 2022.pdf', 'page': 35}, page_content='Boletín Oficial de Castilla y León\\nNúm. 190 Pág. 48351Viernes, 30 de septiembre de 2022\\nCompetencia personal, social y de aprender a aprender (CPSAA) \\nDescriptores operativos: \\n \\n  \\nAl completar la educación primaria, el alumno o la alumna…  Al completar la enseñanza básica, el alumno o la alumna…  \\nCPSAA1. Es consciente de las propias emociones, ideas y \\ncomportamientos personales y emplea estrategias para \\ngestionarlas en situaciones de tensión o conflicto, \\nadaptándose a los cambios y armonizándolos para \\nalcanzar sus propios objetivos.  \\nCPSAA1. Regula y expresa sus emociones, fortaleciendo el \\noptimismo, la resiliencia, la autoeficacia y la búsqueda \\nde propósito y motivación hacia el aprendizaje, para \\ngestionar los retos y cambios y armonizarlos con sus \\npropios objetivos. \\nCPSAA2. Conoce los riesgos más relevantes y los principales \\nactivos para la salud, adopta estilos de vida saludables \\npara su bienestar físico y mental, y detecta y busca \\napoyo ante situaciones violentas o discriminatorias.  \\nCPSAA2. Comprende los riesgos para la salud relacionados \\ncon factores sociales, consolida estilos de vida saludable \\na nivel físico y mental, reconoce conductas contrarias a \\nla convivencia y aplica estrategias para abordarlas  \\nCPSAA3. Reconoce y respeta las emociones y experiencias \\nde las demás  personas, participa activamente en el \\ntrabajo en grupo, asume las responsabilidades \\nindividuales asignadas y emplea estrategias \\ncooperativas dirigidas a la consecución de objetivos \\ncompartidos. \\nCPSAA3. Comprende proactivamente las perspectivas y las \\nexperiencias de las demás personas y las incorpora a su \\naprendizaje, para participar en el trabajo en grupo, \\ndistribuyendo y aceptando tareas y responsabilidades de \\nmanera equitativa y empleando estrategias cooperativas \\nCPSAA4. Reconoce el valor del esfuerzo y  la dedicación \\npersonal para la mejora de su aprendizaje y adopta \\nposturas críticas en procesos de reflexión guiados.'),\n",
       " Document(metadata={'source': 'C:\\\\Users\\\\Usuario\\\\Desktop\\\\Universidad_23_24\\\\TFG\\\\EL_NUEVO\\\\docs\\\\Decreto secundaria octubre.pdf', 'page': 43}, page_content='Boletín Oficial de Castilla y León\\nNúm. 190 Pág. 48893Viernes, 30 de septiembre de 2022\\nCompetencia personal, social y de aprender a aprender (CPSAA) \\nDescriptores operativos: \\n \\n  \\nAl completar la educación primaria, el alumno o la alumna…  Al completar la enseñanza básica, el alumno o la alumna…  \\nCPSAA1. Es consciente de las propias emociones, ideas y \\ncomportamientos personales y emplea estrategias para \\ngestionarlas en situaciones de tensión o conflicto, \\nadaptándose a los cambios y armonizándolos para \\nalcanzar sus propios objetivos.  \\nCPSAA1. Regula y expresa sus emociones, fortaleciendo el \\noptimismo, la resiliencia, la autoeficacia y la búsqueda \\nde propósito y motivación hacia el aprend izaje, para \\ngestionar los retos y cambios y armonizarlos con sus \\npropios objetivos. \\nCPSAA2. Conoce los riesgos más relevantes y los principales \\nactivos para la salud, adopta estilos de vida saludables \\npara su bienestar físico y mental, y detecta y busca \\napoyo ante situaciones violentas o discriminatorias.  \\nCPSAA2. Comprende los riesgos para la salud relacionados \\ncon factores sociales, consolida estilos de vida saludable \\na nivel físico y mental, reconoce conductas contrarias a \\nla convivencia y aplica estrategias para abordarlas  \\nCPSAA3. Reconoce y respeta las emociones y experiencias \\nde las demás personas, participa activamente en el \\ntrabajo en grupo, asume las responsabilidades \\nindividuales asignadas y emplea estrategias \\ncooperativas dirigidas a la consecuci ón de objetivos \\ncompartidos. \\nCPSAA3. Comprende proactivamente las perspectivas y las \\nexperiencias de las demás personas y las incorpora a su \\naprendizaje, para participar en el trabajo en grupo, \\ndistribuyendo y aceptando tareas y responsabilidades de \\nmanera equitativa y empleando estrategias cooperativas \\nCPSAA4. Reconoce el valor del esfuerzo y la dedicación \\npersonal para la mejora de su aprendizaje y adopta \\nposturas críticas en procesos de reflexión guiados.'),\n",
       " Document(metadata={'source': 'C:\\\\Users\\\\Usuario\\\\Desktop\\\\Universidad_23_24\\\\TFG\\\\EL_NUEVO\\\\docs\\\\decreto de infantil 30 de octubre 29 DE SEPTIEMBRE.pdf', 'page': 11}, page_content='Boletín Oficial de Castilla y León\\nNúm. 190 Pág. 48202Viernes, 30 de septiembre de 2022\\nsituación de aprendizaje el conjunto de momentos, cir cunstancias, disposiciones y \\nescenarios alineados con las competencias clave y con las competencias específicas \\na ellas vinculadas, que requieren por parte del alumnado la resolución de actividades \\ny tareas secuenciadas a través de la movilización de estrategias y contenidos, y que \\ncontribuyen a la adquisición y desarrollo de las competencias. \\n2. En el anexo II.C se determinan orientaciones para el diseño y desarrollo de \\nsituaciones de aprendizaje. En todo caso, estas deberán: \\na) Ser globalizadas; es decir, deberán incluir contenidos de varias áreas. \\nb) Ser estimulantes; es decir, deberán tener interés para el alumnado. \\nc) Ser significativas; es decir, deberán partir de los conocimientos previos del \\nalumnado en relación con contextos cotidianos de los ámbitos personal, \\nfamiliar, social y/o educativo. \\nd) Ser inclusivas; es decir, deberán garantizar el acceso a las mismas de todo \\nel alumnado, adecuándolas a sus características evolutivas y a sus ritmos \\ny estilos de aprendizaje. \\nArtículo 13. Elementos transversales del currículo. \\n1. Además de los establecidos en el artículo 6 del Real Decreto 95/2022, de 1 de \\nfebrero, durante esta etapa se trabajarán la cooperación  y colaboración, la \\nestimulación creativa y el desarrollo de hábitos y rutinas.  \\n2. Asimismo, se favorecerá que el alumnado establezca relaciones proactivas, \\ninteractuando con el entorno más cercano a través de experiencias de aprendizaje \\nque propicien una educación para la convivencia positiva y armónica, el cuidado del \\nmedioambiente y el fomento del bienestar, iniciándose en el valor del diverso \\npatrimonio rural de la Comunidad de Castilla y León.  \\nCAPÍTULO III \\nOrganización de la etapa \\nArtículo 14. Áreas de la etapa. \\n1. De acuerdo con lo establecido en el artículo 8 del Real Decreto 95/2022, de 1')]"
      ]
     },
     "execution_count": 10,
     "metadata": {},
     "output_type": "execute_result"
    }
   ],
   "source": [
    "retriever.invoke(\"Es aceptable tener una única clase con 35 alumnos de primaria?\")"
   ]
  },
  {
   "cell_type": "code",
   "execution_count": null,
   "metadata": {},
   "outputs": [],
   "source": []
  },
  {
   "cell_type": "code",
   "execution_count": null,
   "metadata": {},
   "outputs": [],
   "source": []
  }
 ],
 "metadata": {
  "kernelspec": {
   "display_name": "env",
   "language": "python",
   "name": "python3"
  },
  "language_info": {
   "codemirror_mode": {
    "name": "ipython",
    "version": 3
   },
   "file_extension": ".py",
   "mimetype": "text/x-python",
   "name": "python",
   "nbconvert_exporter": "python",
   "pygments_lexer": "ipython3",
   "version": "3.12.5"
  }
 },
 "nbformat": 4,
 "nbformat_minor": 4
}
